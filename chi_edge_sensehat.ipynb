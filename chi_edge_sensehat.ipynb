{
 "cells": [
  {
   "cell_type": "markdown",
   "id": "c2a5282d-f117-4ac9-acc8-f095d7042ba1",
   "metadata": {
    "tags": []
   },
   "source": [
    "# Peripheral showcase: Waveshare sense hat in CHI@Edge\n",
    "\n",
    "Welcome to this Jupyter notebook guide on using the [Waveshare Sense Hat (B)](https://www.waveshare.com/wiki/Sense_HAT_(B)) within CHI@Edge, a sensor expansion board specially designed for Raspberry Pi that houses an onboard gyroscope, accelerometer, magnetometer, barometer, temperature and humidity sensor, etc.. This artifact will walk you through the steps to access and utilize the sense hat for your edge computing experiments.. \n",
    "\n",
    "Devices currently equipped with the peripheral:\n",
    "- sj-rpi4-02\n",
    "- iot-rpi-cm4-02\n",
    "\n",
    "**Important Note:** There are only two devices with the peripheral attached at the moment. We currently are in the process of staffing several of our raspberrypi 4 devices with more of these peripherals; later, this month of June 2024, an official blogpost on peripherals will accompany this artifact presenting a hollistic approach for users to add peripherals to CHI@Edge. For now, please check out our extensive [documentation](https://chameleoncloud.gitbook.io/chi-edge/device-enrollment/peripherals-and-device-profiles) on how to add peripherals to CHI@Edge devices\n",
    "\n",
    "In the following example we'll show how to use the sense hat to capture sensor data."
   ]
  },
  {
   "cell_type": "code",
   "execution_count": null,
   "id": "ad4bcf2d-b458-4436-95ab-4cd99e6321f0",
   "metadata": {},
   "outputs": [],
   "source": [
    "import chi\n",
    "chi.use_site(\"CHI@Edge\")"
   ]
  },
  {
   "cell_type": "code",
   "execution_count": null,
   "id": "20761240-ed5c-4ec8-8d51-33cf950f28e7",
   "metadata": {},
   "outputs": [],
   "source": [
    "chi.set(\"project_name\", \"your_project_goes_here\")"
   ]
  },
  {
   "cell_type": "code",
   "execution_count": null,
   "id": "84038b03-90e9-4f24-898e-d75c9199f8fc",
   "metadata": {},
   "outputs": [],
   "source": [
    "from chi import container\n",
    "from chi import lease"
   ]
  },
  {
   "cell_type": "markdown",
   "id": "07e8cdcc-c8ce-46e3-b1b6-c6080a5b407a",
   "metadata": {},
   "source": [
    "## Creating the Lease\n",
    "\n",
    "To access the sense hat, we need to make a lease for the specific device that the camera is currently attached to. The device ```sj-rpi4-02``` is specifically set up with the proper kernel and driver options to enable support for the waveshare sense hat"
   ]
  },
  {
   "cell_type": "code",
   "execution_count": null,
   "id": "5d19779e-e688-45e0-90f0-8b336411ec4a",
   "metadata": {},
   "outputs": [],
   "source": [
    "import os\n",
    "\n",
    "# get your username, just used to name leases something identifiable\n",
    "username = os.environ.get(\"USER\")\n",
    "\n",
    "# machine name refers to the \"type\" of device\n",
    "machine_name = \"raspberrypi4-64\"\n",
    "\n",
    "# Reserving the specific device to which the Wavesharee sense Pi-hat is attached\n",
    "device_name = \"sj-rpi4-02\"\n",
    "\n",
    "# get dates for lease start and end\n",
    "start, end = lease.lease_duration(days=1)\n",
    "\n",
    "# make a unique name for the lease\n",
    "lease_name = f\"{username}-{machine_name}-{start}\"\n",
    "\n",
    "reservations = []\n",
    "lease.add_device_reservation(reservations, count=1, machine_name=machine_name, device_name=device_name)\n",
    "container_lease = lease.create_lease(lease_name, reservations, start, end)\n",
    "lease_id = container_lease[\"id\"]\n",
    "\n",
    "print(f\"created lease with name {lease_name} and uuid {lease_id}, waiting for it to start. This can take up to 60s.\")\n",
    "lease.wait_for_active(lease_id)\n",
    "print(\"Done!\")"
   ]
  },
  {
   "cell_type": "markdown",
   "id": "7da6af80-1099-4457-82d0-7acbe3728cec",
   "metadata": {},
   "source": [
    "## Launching a container with i2c-tools and adafruit\n",
    "\n",
    "To detect the various sensors offered by the waveshare sense hat, we provide a container image ```soufianejounaid/chi_edge_sensehat:latest``` with all the following pre-requisites:\n",
    "\n",
    "- pi_gpio device profile: a flag to expose all the necessary /dev devices required for the waveshare sense hat support\n",
    "- i2c-tools: A set of I2C utilities for Linux, which includes tools to probe and interact with I2C devices connected to the system.\n",
    "- libgpiod2: A library for interacting with the GPIO pins on the Raspberry Pi.\n",
    "- gpiod: A command-line tool for controlling the GPIO pins using the libgpiod library.\n",
    "- adafruit-blinka: A compatibility layer that allows the use of CircuitPython libraries on a Raspberry Pi, enabling the use of various sensor libraries.\n",
    "- rpi-lgpio: A library for accessing the GPIO pins on the Raspberry Pi, used by the Adafruit Blinka library to interact with the hardware.\n",
    "\n",
    "Beyond the above dependencies, the provided image contains a directory named ```/examples``` containing 5 python scripts demonstrating the usage of each of the waveshare sense hat's onboard sensors. The ```Dockerfile``` for this image as well as the code for the examples are also provided as part of this artifact and can be accessed from the directory tree within your jupyter environment. \n",
    "\n",
    "**Important note** The ```RPI_LGPIO_REVISION``` environment variable here is necessary to indicate to the ```rpi-lgpio``` library that we are indeed running on a raspberry-pi platform. when using this library, it is important to find the revision number for the host device model that the container is running on ```cat /proc/cpuinfo```. In this case, the revision number ```0xd03115``` corresponds to the following raspberry pi 4 model:\n",
    "\n",
    "```\n",
    "Revision\tRelease Date\tModel\tPCB Revision\tMemory  \tNotes\n",
    "d03115  \tQ1 2022     \t4 Model B           \t1.5\t8 GB\t(Mfg by Sony)\n",
    "```\n",
    "\n",
    "To find what model pi the revision number under ```cat /proc/cpuinfo``` corresponds to, use the [Rpi Hardware history table provided by elinux.org](https://elinux.org/RPi_HardwareHistory).\n",
    "\n"
   ]
  },
  {
   "cell_type": "code",
   "execution_count": null,
   "id": "77feeef9-9f69-440e-a1b9-d392d9b5db33",
   "metadata": {},
   "outputs": [],
   "source": [
    "print(\"Requesting container ... This may take a while as the large container image is being downloaded\")\n",
    "\n",
    "# Set a name for the container. Because CHI@Edge uses Kubernetes, ensure that underscores aren't in the name\n",
    "container_name = f\"tutorial-{machine_name}-sensehat\".replace(\"_\",\"-\")\n",
    "\n",
    "try:\n",
    "    my_container = container.create_container(\n",
    "        container_name,\n",
    "        image=\"ghcr.io/chameleoncloud/edge_sensehat_image:latest\",\n",
    "        workdir=\"/examples\",\n",
    "        device_profiles=[\"pi_gpio\"],\n",
    "        environment={'RPI_LGPIO_REVISION':'0xd03115'}, # Revision number corresponding to the device sj-rpi4-02's hardware\n",
    "        reservation_id=lease.get_device_reservation(lease_id),\n",
    "        platform_version=2,\n",
    "    )\n",
    "except RuntimeError as ex:\n",
    "    print(ex)\n",
    "    print(f\"please stop and/or delete {container_name} and try again\")\n",
    "else:\n",
    "    print(f\"Successfully created container: {container_name}!\")"
   ]
  },
  {
   "cell_type": "markdown",
   "id": "b0550d63-7ee2-40fd-a13c-3b55ecdb5c5b",
   "metadata": {},
   "source": [
    "## Displaying the I2C sensor map and understanding the mapping of I2C device addresses to sensors\n",
    "We use the ```i2cdetect``` command from the ```i2c-tools``` utility to display the current detected i2c devices. To understand the mapping of these addresses to the various sensors onboard the sense hat, we refer to [waveshare's sense hat docs](https://www.waveshare.com/wiki/Sense_HAT_(B)) or most notably, the Feature and I2C device addresses sections quoted below:\n",
    "\n",
    "### Sensor descriptions\n",
    "\n",
    "- Onboard ICM20948 (3-axis accelerometer, 3-axis gyroscope, and 3-axis magnetometer), detects movement, orientation, and magnetic.\n",
    "- Onboard SHTC3 digital temperature and humidity sensor, allows monitoring of the environment.\n",
    "- Onboard LPS22HB barometric pressure sensor, allows monitoring of the environment.\n",
    "- Onboard TCS34725 color sensor, identifies the color of a nearby object.\n",
    "- Onboard ADS1015 ADC, 4-ch 12-bit precision, AD expansion to support more external sensors.\n",
    "\n",
    "### Sensor I2C device addresses\n",
    "- ADS1015: 0x48 \n",
    "- ICM-20948: 0x68\n",
    "- LPS22HB: 0x5C\n",
    "- SHTC3: 0x70\n",
    "- TCS34725: 0x29\n"
   ]
  },
  {
   "cell_type": "code",
   "execution_count": null,
   "id": "3f286a39-9652-4baf-a091-a285aa1d6655",
   "metadata": {},
   "outputs": [],
   "source": [
    "cmd = \"i2cdetect -y 1\"\n",
    "print(chi.container.execute(my_container.uuid, cmd)[\"output\"])"
   ]
  },
  {
   "cell_type": "markdown",
   "id": "062a07ca-b0ed-415c-9265-d9734f3ffdfb",
   "metadata": {},
   "source": [
    "If the above cell executes succesfully, we can see that the corresponding i2c device addresses of the sense hat's onboard sensors all show up as expected. "
   ]
  },
  {
   "cell_type": "markdown",
   "id": "4d4a1ea4-cf3b-4276-978a-d7a735aed200",
   "metadata": {},
   "source": [
    "## Reading values from various sensors on the sense hat using AdaFruit blinka library and each sensor's respective breakout cicuitpython pip module\n",
    "\n",
    "For each sensor, we use its respective adafruit-cicuitpython library. For convenience, the image we provisioned for this tutorial already has all the dependencies installed.\n",
    "\n",
    "Here are the respective Adafruit CircuitPython tutorial pages for each sensor model:\n",
    "- [ICM20948 (3-axis accelerometer, 3-axis gyroscope, and 3-axis magnetometer), detects movement, orientation, and magnetic CicuitPython module](https://learn.adafruit.com/adafruit-tdk-invensense-icm-20948-9-dof-imu/python-circuitpython#python-installation-of-icm20x-library-3069499)\n",
    "- [SHTC3 digital temperature and humidity sensor, allows monitoring of the environment CicuitPython module](https://learn.adafruit.com/adafruit-sensirion-shtc3-temperature-humidity-sensor/python-circuitpython#python-installation-of-shtc3-library-3065209)\n",
    "- [LPS22HB barometric pressure sensor, allows monitoring of the environment CicuitPython module](https://learn.adafruit.com/adafruit-lps25-pressure-sensor/python-circuitpython#python-installation-of-lps2x-library-3056734)\n",
    "- [TCS34725 color sensor, identifies the color of a nearby object CircuitPython module](https://learn.adafruit.com/adafruit-color-sensors/python-circuitpython#python-installation-of-tcs34725-library-2998106)\n",
    "- [ADS1015 ADC, 4-ch 12-bit precision, AD expansion to support more external sensors CircuitPython module](https://learn.adafruit.com/adafruit-4-channel-adc-breakouts/python-circuitpython#python-installation-of-ads1x15-library-2997261)\n",
    "\n",
    "You will notice that some of these CicuitPython modules support miltiple different sensors, such as the ```ads1x15``` module that supports both the ```ads1015``` sensor that is onboard the sense hat and another model, the ```ads1115```. For these specific sensors, we made sure to specify the the i2c address when initializing the CircuitPython module to avoid errors related to default values pointing to another model of the same series.\n",
    "\n",
    "### Example code snippet used to test the ADS1015 Analog to digital converter (full code can be found under /examples directory)\n",
    "```\n",
    "# We specify the exact i2c address for the ADC (0x48), which can be verified against the I2C map we previously displayed with i2cdetect\n",
    "ads = ADS.ADS1015(i2c, address=0x48)\n",
    "```\n",
    "\n",
    "**Important note** All of the example code scripts used below to read values from the sensors are available under the ```/examples``` directory"
   ]
  },
  {
   "cell_type": "markdown",
   "id": "568eda39-f790-4ae5-ae49-98a18dd70403",
   "metadata": {},
   "source": [
    "## Using SHTC3, the temperatuure and humidity sensor"
   ]
  },
  {
   "cell_type": "code",
   "execution_count": null,
   "id": "28caaf2e-afc2-497a-b1f4-795c6a84b2c7",
   "metadata": {},
   "outputs": [],
   "source": [
    "cmd = \"python3 SHTC3_temp_and_humidity_sensor_test.py\"\n",
    "print(chi.container.execute(my_container.uuid, cmd)[\"output\"])"
   ]
  },
  {
   "cell_type": "markdown",
   "id": "1e4820c1-b346-4d83-8a82-e77cc0b0de79",
   "metadata": {},
   "source": [
    "## Using ADS1015, the Analog to digital converter"
   ]
  },
  {
   "cell_type": "code",
   "execution_count": null,
   "id": "69f25041-373c-4f8d-82a6-e95719b93556",
   "metadata": {},
   "outputs": [],
   "source": [
    "cmd = \"python3 ADS1015_analog_to_digital_test.py\"\n",
    "print(chi.container.execute(my_container.uuid, cmd)[\"output\"])"
   ]
  },
  {
   "cell_type": "markdown",
   "id": "49cf3e4f-43db-493e-a1c8-6e1565c92b50",
   "metadata": {},
   "source": [
    "## Using ICM20948, the 3-axis accelerometer, 3-axis gyroscope, and 3-axis magnetometer"
   ]
  },
  {
   "cell_type": "code",
   "execution_count": null,
   "id": "86531121-e058-423b-9118-4cd829836bc9",
   "metadata": {},
   "outputs": [],
   "source": [
    "cmd = \"python3 ICM-20948_9-axis_sensor_test.py\"\n",
    "print(chi.container.execute(my_container.uuid, cmd)[\"output\"])"
   ]
  },
  {
   "cell_type": "markdown",
   "id": "215c794f-0d12-47b3-9269-27650397c786",
   "metadata": {},
   "source": [
    "## Using LPS22HB, the barometric pressure sensor\n",
    "\n",
    "The temperature value here is used for compensation and should not be used as a temperature reading"
   ]
  },
  {
   "cell_type": "code",
   "execution_count": null,
   "id": "8c77337f-6fab-425b-92b3-1af8a0a1d847",
   "metadata": {},
   "outputs": [],
   "source": [
    "cmd = \"python3 LPS22HB_air_pressure_sensor_test.py\"\n",
    "print(chi.container.execute(my_container.uuid, cmd)[\"output\"])"
   ]
  },
  {
   "cell_type": "markdown",
   "id": "061b7ab5-7b2c-4e79-ab2c-d7d7b9a1b906",
   "metadata": {},
   "source": [
    "## Using TCS34725, the color sensor"
   ]
  },
  {
   "cell_type": "code",
   "execution_count": null,
   "id": "7a0a9ad9-ac25-446b-88ef-0d6919eb8058",
   "metadata": {},
   "outputs": [],
   "source": [
    "cmd = \"python3 TCS34725_color_recognition_sensor_test.py\"\n",
    "print(chi.container.execute(my_container.uuid, cmd)[\"output\"])"
   ]
  },
  {
   "cell_type": "markdown",
   "id": "7a7adf67-69fb-42a8-8227-7d08fff30fcd",
   "metadata": {},
   "source": [
    "## Destroying the container after use"
   ]
  },
  {
   "cell_type": "code",
   "execution_count": null,
   "id": "f08334e4-e3ef-4f1f-ac11-320db998a8fe",
   "metadata": {},
   "outputs": [],
   "source": [
    "chi.container.destroy_container(my_container.uuid)"
   ]
  }
 ],
 "metadata": {
  "kernelspec": {
   "display_name": "Python 3 (ipykernel)",
   "language": "python",
   "name": "python3"
  },
  "language_info": {
   "codemirror_mode": {
    "name": "ipython",
    "version": 3
   },
   "file_extension": ".py",
   "mimetype": "text/x-python",
   "name": "python",
   "nbconvert_exporter": "python",
   "pygments_lexer": "ipython3",
   "version": "3.10.9"
  }
 },
 "nbformat": 4,
 "nbformat_minor": 5
}
